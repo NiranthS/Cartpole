{
  "nbformat": 4,
  "nbformat_minor": 0,
  "metadata": {
    "colab": {
      "name": "cartpole.ipynb",
      "provenance": [],
      "collapsed_sections": [
        "jrI6q7RmWQam"
      ]
    },
    "kernelspec": {
      "name": "python3",
      "display_name": "Python 3"
    },
    "accelerator": "GPU"
  },
  "cells": [
    {
      "cell_type": "code",
      "metadata": {
        "id": "EvdePP-VyVWp",
        "colab_type": "code",
        "outputId": "42567836-1343-47d2-8dfb-ddb6c5893b7f",
        "colab": {
          "base_uri": "https://localhost:8080/",
          "height": 214
        }
      },
      "source": [
        "!apt-get install -y xvfb python-opengl x11-utils > /dev/null 2>&1\n",
        "!pip install gym pyvirtualdisplay scikit-video > /dev/null 2>&1\n",
        "\n",
        "%tensorflow_version 2.x\n",
        "import tensorflow as tf\n",
        "\n",
        "import numpy as np\n",
        "import base64, io, time, gym\n",
        "import IPython, functools\n",
        "import matplotlib.pyplot as plt\n",
        "from tqdm import tqdm\n",
        "\n",
        "!pip install mitdeeplearning\n",
        "import mitdeeplearning as mdl"
      ],
      "execution_count": 0,
      "outputs": [
        {
          "output_type": "stream",
          "text": [
            "Requirement already satisfied: mitdeeplearning in /usr/local/lib/python3.6/dist-packages (0.1.2)\n",
            "Requirement already satisfied: regex in /usr/local/lib/python3.6/dist-packages (from mitdeeplearning) (2019.12.20)\n",
            "Requirement already satisfied: numpy in /tensorflow-2.1.0/python3.6 (from mitdeeplearning) (1.18.1)\n",
            "Requirement already satisfied: gym in /usr/local/lib/python3.6/dist-packages (from mitdeeplearning) (0.15.6)\n",
            "Requirement already satisfied: tqdm in /usr/local/lib/python3.6/dist-packages (from mitdeeplearning) (4.28.1)\n",
            "Requirement already satisfied: scipy in /tensorflow-2.1.0/python3.6 (from gym->mitdeeplearning) (1.4.1)\n",
            "Requirement already satisfied: cloudpickle~=1.2.0 in /usr/local/lib/python3.6/dist-packages (from gym->mitdeeplearning) (1.2.2)\n",
            "Requirement already satisfied: six in /tensorflow-2.1.0/python3.6 (from gym->mitdeeplearning) (1.14.0)\n",
            "Requirement already satisfied: pyglet<=1.5.0,>=1.4.0 in /usr/local/lib/python3.6/dist-packages (from gym->mitdeeplearning) (1.4.10)\n",
            "Requirement already satisfied: future in /usr/local/lib/python3.6/dist-packages (from pyglet<=1.5.0,>=1.4.0->gym->mitdeeplearning) (0.16.0)\n"
          ],
          "name": "stdout"
        }
      ]
    },
    {
      "cell_type": "code",
      "metadata": {
        "id": "quv9SC0iIYFm",
        "colab_type": "code",
        "outputId": "cc3094b0-eb8f-4702-d7ff-222967c33228",
        "colab": {
          "base_uri": "https://localhost:8080/",
          "height": 90
        }
      },
      "source": [
        "### Instantiate the Cartpole environment ###\n",
        "\n",
        "env = gym.make(\"CartPole-v0\")\n",
        "env.seed(1)"
      ],
      "execution_count": 0,
      "outputs": [
        {
          "output_type": "stream",
          "text": [
            "/usr/local/lib/python3.6/dist-packages/gym/logger.py:30: UserWarning: \u001b[33mWARN: Box bound precision lowered by casting to float32\u001b[0m\n",
            "  warnings.warn(colorize('%s: %s'%('WARN', msg % args), 'yellow'))\n"
          ],
          "name": "stderr"
        },
        {
          "output_type": "execute_result",
          "data": {
            "text/plain": [
              "[1]"
            ]
          },
          "metadata": {
            "tags": []
          },
          "execution_count": 13
        }
      ]
    },
    {
      "cell_type": "code",
      "metadata": {
        "id": "UVJaEcbdIX82",
        "colab_type": "code",
        "outputId": "f148747d-cbf5-4a49-defa-d18a35b23ef7",
        "colab": {
          "base_uri": "https://localhost:8080/",
          "height": 35
        }
      },
      "source": [
        "n_observations = env.observation_space\n",
        "print(\"Environment has observation space =\", n_observations)\n",
        "# action = np.expand_dims(n_actions, axis=0)\n",
        "# print(observation)"
      ],
      "execution_count": 0,
      "outputs": [
        {
          "output_type": "stream",
          "text": [
            "Environment has observation space = Box(4,)\n"
          ],
          "name": "stdout"
        }
      ]
    },
    {
      "cell_type": "code",
      "metadata": {
        "id": "qc9SIPxBIXrm",
        "colab_type": "code",
        "outputId": "b76065e4-524d-4b57-8e14-84907ea64573",
        "colab": {
          "base_uri": "https://localhost:8080/",
          "height": 52
        }
      },
      "source": [
        "n_actions = env.action_space\n",
        "print(\"Number of possible actions that the agent can choose from =\", n_actions)\n",
        "action = np.expand_dims(env.action_space, axis=0)\n",
        "print(action[0])"
      ],
      "execution_count": 0,
      "outputs": [
        {
          "output_type": "stream",
          "text": [
            "Number of possible actions that the agent can choose from = Discrete(2)\n",
            "Discrete(2)\n"
          ],
          "name": "stdout"
        }
      ]
    },
    {
      "cell_type": "code",
      "metadata": {
        "id": "W-o_XK4oQ4eu",
        "colab_type": "code",
        "colab": {}
      },
      "source": [
        "### Define the Cartpole agent ###\n",
        "\n",
        "# Defines a feed-forward neural network\n",
        "def create_cartpole_model():\n",
        "  model = tf.keras.models.Sequential([\n",
        "      # First Dense layer\n",
        "      tf.keras.layers.Dense(units=32, activation='relu'),\n",
        "      \n",
        "      tf.keras.layers.Dense(units=2,activation='sigmoid')\n",
        "  ])\n",
        "  return model\n",
        "\n",
        "cartpole_model = create_cartpole_model()"
      ],
      "execution_count": 0,
      "outputs": []
    },
    {
      "cell_type": "code",
      "metadata": {
        "id": "E_vVZRr8Q4R_",
        "colab_type": "code",
        "colab": {}
      },
      "source": [
        "### Define the agent's action function ###\n",
        "\n",
        "# Function that takes observations as input, executes a forward pass through model, \n",
        "#   and outputs a sampled action.\n",
        "# Arguments:\n",
        "#   model: the network that defines our agent\n",
        "#   observation: observation which is fed as input to the model\n",
        "# Returns:\n",
        "#   action: choice of agent action\n",
        "def choose_action(model, observation):\n",
        "  # add batch dimension to the observation\n",
        "  observation = np.expand_dims(observation, axis=0)\n",
        "\n",
        "  logits = model.predict(observation)\n",
        "  \n",
        "  # pass the log probabilities through a softmax to compute true probabilities\n",
        "  prob_weights = tf.nn.softmax(logits).numpy()\n",
        "  # print('observation',observation)\n",
        "  # print('logits',logits)\n",
        "  # print('p_w',prob_weights)\n",
        "  \n",
        "  actions = np.expand_dims(env.action_space, axis=0)\n",
        "  action = np.random.choice(2, size=1, p=prob_weights[0])\n",
        "  action=np.int(action)\n",
        "  return action"
      ],
      "execution_count": 0,
      "outputs": []
    },
    {
      "cell_type": "code",
      "metadata": {
        "id": "8MM6JwXVQ4JG",
        "colab_type": "code",
        "colab": {}
      },
      "source": [
        "### Agent Memory ###\n",
        "\n",
        "class Memory:\n",
        "  def __init__(self): \n",
        "      self.clear()\n",
        "\n",
        "  # Resets/restarts the memory buffer\n",
        "  def clear(self): \n",
        "      self.observations = []\n",
        "      self.actions = []\n",
        "      self.rewards = []\n",
        "\n",
        "  # Add observations, actions, rewards to memory\n",
        "  def add_to_memory(self, new_observation, new_action, new_reward): \n",
        "      self.observations.append(new_observation)\n",
        "      self.actions.append(new_action)\n",
        "      self.rewards.append(new_reward)\n",
        "\n",
        "        \n",
        "memory = Memory()"
      ],
      "execution_count": 0,
      "outputs": []
    },
    {
      "cell_type": "code",
      "metadata": {
        "id": "5_Q2OFYtQ32X",
        "colab_type": "code",
        "colab": {}
      },
      "source": [
        "### Reward function ###\n",
        "\n",
        "# Helper function that normalizes an np.array x\n",
        "def normalize(x):\n",
        "  x -= np.mean(x)\n",
        "  x /= np.std(x)\n",
        "  return x.astype(np.float32)\n",
        "\n",
        "# Compute normalized, discounted, cumulative rewards (i.e., return)\n",
        "# Arguments:\n",
        "#   rewards: reward at timesteps in episode\n",
        "#   gamma: discounting factor\n",
        "# Returns:\n",
        "#   normalized discounted reward\n",
        "def discount_rewards(rewards, gamma=0.95): \n",
        "  discounted_rewards = np.zeros_like(rewards)\n",
        "  R = 0\n",
        "  for t in reversed(range(0, len(rewards))):\n",
        "      # update the total discounted reward\n",
        "      R = R * gamma + rewards[t]\n",
        "      discounted_rewards[t] = R\n",
        "      \n",
        "\n",
        "  return normalize(discounted_rewards)"
      ],
      "execution_count": 0,
      "outputs": []
    },
    {
      "cell_type": "code",
      "metadata": {
        "id": "fsgZ3IDCY_Zn",
        "colab_type": "code",
        "colab": {}
      },
      "source": [
        "### Loss function ###\n",
        "\n",
        "# Arguments:\n",
        "#   logits: network's predictions for actions to take\n",
        "#   actions: the actions the agent took in an episode\n",
        "#   rewards: the rewards the agent received in an episode\n",
        "# Returns:\n",
        "#   loss\n",
        "def compute_loss(logits, actions, rewards): \n",
        "  neg_logprob = tf.nn.sparse_softmax_cross_entropy_with_logits(logits=logits, labels=actions)\n",
        "  \n",
        "  loss = tf.reduce_mean(rewards*neg_logprob)\n",
        "  return loss"
      ],
      "execution_count": 0,
      "outputs": []
    },
    {
      "cell_type": "code",
      "metadata": {
        "id": "_50ada7nbZ7L",
        "colab_type": "code",
        "colab": {}
      },
      "source": [
        "### Training step (forward and backpropagation) ###\n",
        "\n",
        "def train_step(model, optimizer, observations, actions, discounted_rewards):\n",
        "  with tf.GradientTape() as tape:\n",
        "      # Forward propagate through the agent network\n",
        "      logits = model(observations)\n",
        "      # print(observations)\n",
        "      # print('1')\n",
        "      # print(logits)\n",
        "      loss = compute_loss(logits,actions,discounted_rewards)\n",
        "      # print('2')\n",
        "  grads = tape.gradient(loss, model.trainable_variables)\n",
        "  # print('3')\n",
        "  optimizer.apply_gradients(zip(grads, model.trainable_variables))\n",
        "  # print('4')"
      ],
      "execution_count": 0,
      "outputs": []
    },
    {
      "cell_type": "code",
      "metadata": {
        "id": "XmOzc2rrcn8Q",
        "colab_type": "code",
        "outputId": "954050e3-f474-4fdf-a6ae-33261775061f",
        "colab": {
          "base_uri": "https://localhost:8080/",
          "height": 279
        }
      },
      "source": [
        "### Cartpole training! ###\n",
        "\n",
        "# Learning rate and optimizer\n",
        "learning_rate = 1e-3\n",
        "optimizer = tf.keras.optimizers.Adam(learning_rate)\n",
        "\n",
        "# instantiate cartpole agent\n",
        "cartpole_model = create_cartpole_model()\n",
        "\n",
        "# to track our progress\n",
        "smoothed_reward = mdl.util.LossHistory(smoothing_factor=0.9)\n",
        "plotter = mdl.util.PeriodicPlotter(sec=2, xlabel='Iterations', ylabel='Rewards')\n",
        "\n",
        "if hasattr(tqdm, '_instances'): tqdm._instances.clear() # clear if it exists\n",
        "for i_episode in range(3300):\n",
        "\n",
        "  plotter.plot(smoothed_reward.get())\n",
        "\n",
        "  # Restart the environment\n",
        "  observation = env.reset()\n",
        "  memory.clear()\n",
        "\n",
        "  while True:\n",
        "      # using our observation, choose an action and take it in the environment\n",
        "      action = choose_action(cartpole_model, observation)\n",
        "      next_observation, reward, done, info = env.step(action)\n",
        "      # add to memory\n",
        "      memory.add_to_memory(observation, action, reward)\n",
        "      \n",
        "      # is the episode over? did you crash or do so well that you're done?\n",
        "      if done:\n",
        "          # determine total reward and keep a record of this\n",
        "          total_reward = sum(memory.rewards)\n",
        "          smoothed_reward.append(total_reward)\n",
        "          \n",
        "          # initiate training - remember we don't know anything about how the \n",
        "          #   agent is doing until it has crashed!\n",
        "          train_step(cartpole_model, optimizer, \n",
        "                     observations=np.vstack(memory.observations),\n",
        "                     actions=np.array(memory.actions),\n",
        "                     discounted_rewards = discount_rewards(memory.rewards))\n",
        "          \n",
        "          # reset the memory\n",
        "          memory.clear()\n",
        "          break\n",
        "      # update our observatons\n",
        "      observation = next_observation"
      ],
      "execution_count": 0,
      "outputs": [
        {
          "output_type": "display_data",
          "data": {
            "image/png": "[encoded data removed]",
            "text/plain": [
              "<Figure size 432x288 with 1 Axes>"
            ]
          },
          "metadata": {
            "tags": []
          }
        }
      ]
    },
    {
      "cell_type": "code",
      "metadata": {
        "id": "PAYBkv6Zbk0J",
        "colab_type": "code",
        "outputId": "fb9b7a1d-8f18-4e5b-d02f-a0075d6c6645",
        "colab": {
          "base_uri": "https://localhost:8080/",
          "height": 494
        }
      },
      "source": [
        "saved_cartpole = mdl.lab3.save_video_of_model(cartpole_model, \"CartPole-v0\")\n",
        "mdl.lab3.play_video(saved_cartpole)"
      ],
      "execution_count": 0,
      "outputs": [
        {
          "output_type": "stream",
          "text": [
            "/usr/local/lib/python3.6/dist-packages/gym/logger.py:30: UserWarning: \u001b[33mWARN: Box bound precision lowered by casting to float32\u001b[0m\n",
            "  warnings.warn(colorize('%s: %s'%('WARN', msg % args), 'yellow'))\n"
          ],
          "name": "stderr"
        },
        {
          "output_type": "stream",
          "text": [
            "Successfully saved 44 frames into CartPole-v0.mp4!\n"
          ],
          "name": "stdout"
        },
        {
          "output_type": "execute_result",
          "data": {
            "text/html": [
              "\n",
              "        <video controls>\n",
              "            <source src=\"data:video/mp4;base64,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\" type=\"video/mp4\" />\n",
              "        </video>"
            ],
            "text/plain": [
              "<IPython.core.display.HTML object>"
            ]
          },
          "metadata": {
            "tags": []
          },
          "execution_count": 71
        }
      ]
    }
  ]
}